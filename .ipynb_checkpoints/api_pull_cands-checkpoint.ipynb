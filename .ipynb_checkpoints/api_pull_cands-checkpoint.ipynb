{
 "cells": [
  {
   "cell_type": "code",
   "execution_count": 95,
   "metadata": {},
   "outputs": [],
   "source": [
    "import csv\n",
    "import json\n",
    "\n",
    "import requests\n",
    "import pandas as pd\n",
    "\n",
    "api_key = \"FifGuw6CDmcClfridIax2J81qQsMWNG3yk8vh6wQ\""
   ]
  },
  {
   "cell_type": "markdown",
   "metadata": {},
   "source": [
    "## read candidates into a list of dicts"
   ]
  },
  {
   "cell_type": "code",
   "execution_count": 2,
   "metadata": {},
   "outputs": [],
   "source": [
    "with open('house_sen_cands.csv') as f:\n",
    "    cand_dicts = [{k: v for k, v in row.items()}\n",
    "    for row in csv.DictReader(f, skipinitialspace=True)]"
   ]
  },
  {
   "cell_type": "markdown",
   "metadata": {},
   "source": [
    "## gets name, party, state and last_name data for each candidate"
   ]
  },
  {
   "cell_type": "code",
   "execution_count": 91,
   "metadata": {},
   "outputs": [],
   "source": [
    "for cand in cand_dicts:\n",
    "    cand[\"name\"] = cand[\"member\"].split(\", \")[0]\n",
    "    cand[\"party\"] = cand[\"member\"].split(\", \")[1][0]\n",
    "    cand[\"state\"] = cand[\"member\"].split(\", \")[1][2:4]\n",
    "    cand[\"last_name\"] = cand[\"name\"].split(\" \")[1]"
   ]
  },
  {
   "cell_type": "markdown",
   "metadata": {},
   "source": [
    "## gets FEC candidate_id (senate) for each candidate"
   ]
  },
  {
   "cell_type": "code",
   "execution_count": 55,
   "metadata": {},
   "outputs": [],
   "source": [
    "search_url = \"https://api.open.fec.gov/v1/candidates/search/\"\n",
    "search_params = {\"election_year\": \"2018\",\n",
    "                 \"api_key\": api_key,\n",
    "                 \"party\": \"\",\n",
    "                 \"state\": \"\",\n",
    "                 \"office\": \"S\",\n",
    "                 \"name\": \"\",\n",
    "                 \"sort\": \"name\"}\n",
    "\n",
    "candidate_ids = []\n",
    "\n",
    "for cand in cand_dicts:\n",
    "    if cand[\"party\"] == \"R\":\n",
    "        search_params[\"party\"] = \"REP\"\n",
    "    else:\n",
    "        search_params[\"party\"] = \"DEM\"\n",
    "    search_params[\"state\"] = cand[\"state\"]\n",
    "    search_params[\"name\"] = cand[\"last_name\"]\n",
    "    resp = requests.get(search_url, params=search_params)\n",
    "    d = {}\n",
    "    d[\"candidate_name\"] = json.loads(resp.text)[\"results\"][0][\"name\"]\n",
    "    d[\"candidate_id\"] = json.loads(resp.text)[\"results\"][0][\"candidate_id\"]\n",
    "    candidate_ids.append(d)"
   ]
  },
  {
   "cell_type": "markdown",
   "metadata": {},
   "source": [
    "## prints candidate ids and names"
   ]
  },
  {
   "cell_type": "code",
   "execution_count": 101,
   "metadata": {},
   "outputs": [
    {
     "data": {
      "text/plain": [
       "[{'candidate_id': 'S8PA00320', 'candidate_name': 'BARLETTA, LOU'},\n",
       " {'candidate_id': 'S8TX00285', 'candidate_name': \"O'ROURKE, ROBERT (BETO)\"},\n",
       " {'candidate_id': 'S8AZ00197', 'candidate_name': 'SINEMA, KYRSTEN'},\n",
       " {'candidate_id': 'S8NV00156', 'candidate_name': 'ROSEN, JACKY'},\n",
       " {'candidate_id': 'S8TN00337', 'candidate_name': 'BLACKBURN, MARSHA MRS'},\n",
       " {'candidate_id': 'S8WV00127', 'candidate_name': 'JENKINS, EVAN H'},\n",
       " {'candidate_id': 'S8IN00189', 'candidate_name': 'ROKITA, THEODORE EDWARD'},\n",
       " {'candidate_id': 'S8IN00163', 'candidate_name': 'MESSER, ALLEN LUCAS'}]"
      ]
     },
     "execution_count": 101,
     "metadata": {},
     "output_type": "execute_result"
    }
   ],
   "source": [
    "candidate_ids"
   ]
  },
  {
   "cell_type": "markdown",
   "metadata": {},
   "source": [
    "## gets data from \"totals\" FEC API endpoint "
   ]
  },
  {
   "cell_type": "code",
   "execution_count": 102,
   "metadata": {
    "scrolled": true
   },
   "outputs": [],
   "source": [
    "cand_totals = []\n",
    "\n",
    "filings_params = {\"cycle\": \"2018\",\n",
    "    \"api_key\": api_key,\n",
    "    \"office\": \"S\",\n",
    "    \"per_page\": \"60\",\n",
    "    \"full_election\": \"true\"\n",
    "}\n",
    "\n",
    "for cand in candidate_ids:\n",
    "    cand_id = cand[\"candidate_id\"]\n",
    "    filings_url = \"https://api.open.fec.gov/v1/candidate/\" + cand_id + \"/totals/\"\n",
    "    \n",
    "    resp = requests.get(filings_url, params = filings_params)\n",
    "    \n",
    "    total = json.loads(resp.text.replace(\"null\", '\"\"'))\n",
    "    total[\"name\"] = cand[\"candidate_name\"]\n",
    "    total[\"candidate_id\"] = cand_id\n",
    "    \n",
    "    cand_totals.append(total)\n",
    "\n"
   ]
  },
  {
   "cell_type": "markdown",
   "metadata": {},
   "source": [
    "## checks to see if there is not enough/too much data in results\n",
    "\n",
    "## puts \"totals\" results data into new list of dicts, along with name of candidate"
   ]
  },
  {
   "cell_type": "code",
   "execution_count": 92,
   "metadata": {},
   "outputs": [
    {
     "name": "stdout",
     "output_type": "stream",
     "text": [
      "no results for BLACKBURN, MARSHA MRS\n"
     ]
    }
   ],
   "source": [
    "cands_data = []\n",
    "\n",
    "for total in cand_totals:\n",
    "    if len(total[\"results\"]) > 1:\n",
    "        print(\"too many results for \" + total[\"name\"])\n",
    "    if len(total[\"results\"]) == 0:\n",
    "        print(\"no results for \" + total[\"name\"])\n",
    "        continue\n",
    "    d = {}\n",
    "    d[\"name\"] = total[\"name\"]\n",
    "    for item in total[\"results\"][0]:\n",
    "        d[item] = total[\"results\"][0][item]  \n",
    "        \n",
    "    cands_data.append(d)"
   ]
  },
  {
   "cell_type": "markdown",
   "metadata": {},
   "source": [
    "## uses pandas to write results for each candidate into CSV file"
   ]
  },
  {
   "cell_type": "code",
   "execution_count": 99,
   "metadata": {},
   "outputs": [],
   "source": [
    "pd.DataFrame(cands_data).to_csv(\"house_sen_totals.csv\", index=0)"
   ]
  },
  {
   "cell_type": "code",
   "execution_count": null,
   "metadata": {},
   "outputs": [],
   "source": []
  }
 ],
 "metadata": {
  "kernelspec": {
   "display_name": "Python 3",
   "language": "python",
   "name": "python3"
  },
  "language_info": {
   "codemirror_mode": {
    "name": "ipython",
    "version": 3
   },
   "file_extension": ".py",
   "mimetype": "text/x-python",
   "name": "python",
   "nbconvert_exporter": "python",
   "pygments_lexer": "ipython3",
   "version": "3.6.2"
  }
 },
 "nbformat": 4,
 "nbformat_minor": 2
}
